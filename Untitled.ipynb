{
 "cells": [
  {
   "cell_type": "code",
   "execution_count": null,
   "id": "604928e8",
   "metadata": {},
   "outputs": [],
   "source": [
    "print(\"Hello,Joemar\") \n"
   ]
  },
  {
   "cell_type": "code",
   "execution_count": null,
   "id": "f4c358ce",
   "metadata": {},
   "outputs": [],
   "source": [
    "print(\"Hello, Aiza\")"
   ]
  },
  {
   "cell_type": "code",
   "execution_count": 1,
   "id": "3410bb68",
   "metadata": {},
   "outputs": [],
   "source": [
    "class Person:\n",
    "    def __init__(self, name, age, height, eyescolor):\n",
    "        self.name = name\n",
    "        self.age = age\n",
    "        self.height = height\n",
    "        self.eyescolor = eyescolor\n",
    "    def introduce_self(self):\n",
    "        print(\"My name is \" + self.name)# This in Java"
   ]
  },
  {
   "cell_type": "code",
   "execution_count": 4,
   "id": "753bf467",
   "metadata": {},
   "outputs": [],
   "source": [
    "# p1 = Person()\n",
    "# p1.name = \"Joemar\"\n",
    "# p1.age = 36\n",
    "# p1.height = 156\n",
    "# p1.eyescolor = \"brown\"\n",
    " \n",
    "p1 = Person (\"Joemar\", 36, 156, \"brown\")\n",
    "p2 = Person (\"Aiza\", 33, 149, \"brown\")"
   ]
  },
  {
   "cell_type": "code",
   "execution_count": 5,
   "id": "2e0cfc9b",
   "metadata": {},
   "outputs": [
    {
     "name": "stdout",
     "output_type": "stream",
     "text": [
      "My name is Joemar\n",
      "My name is Aiza\n"
     ]
    }
   ],
   "source": [
    "p1.introduce_self()\n",
    "p2.introduce_self()"
   ]
  },
  {
   "cell_type": "code",
   "execution_count": null,
   "id": "c1835e8e",
   "metadata": {},
   "outputs": [],
   "source": []
  }
 ],
 "metadata": {
  "kernelspec": {
   "display_name": "Python 3 (ipykernel)",
   "language": "python",
   "name": "python3"
  },
  "language_info": {
   "codemirror_mode": {
    "name": "ipython",
    "version": 3
   },
   "file_extension": ".py",
   "mimetype": "text/x-python",
   "name": "python",
   "nbconvert_exporter": "python",
   "pygments_lexer": "ipython3",
   "version": "3.9.12"
  }
 },
 "nbformat": 4,
 "nbformat_minor": 5
}
